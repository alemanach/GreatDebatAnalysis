{
 "cells": [
  {
   "cell_type": "code",
   "execution_count": 3,
   "metadata": {},
   "outputs": [],
   "source": [
    "#To install use :\n",
    "#pip install spacy \n",
    "#python -m spacy download fr_core_news_sm\n",
    "\n",
    "import spacy\n",
    "import pandas as pd"
   ]
  },
  {
   "cell_type": "code",
   "execution_count": 6,
   "metadata": {},
   "outputs": [],
   "source": [
    "def lemmatisation(text):\n",
    "    nlp = spacy.load('fr_core_news_sm')\n",
    "    doc = nlp(str(text))\n",
    "    lemma = ''\n",
    "    for token in doc:\n",
    "        lemma += ' '+token.lemma_\n",
    "    return lemma"
   ]
  },
  {
   "cell_type": "code",
   "execution_count": 7,
   "metadata": {},
   "outputs": [
    {
     "data": {
      "text/plain": [
       "' en matière de émission de c02 tout n\\' être pas dire al utilisateur un transport motoriser . on matraque le petit consommateur que être le automobiliste surtout en France avec un fiscalité à caractère dissuasif pour le forcer à utiliser d\\' autre moyen de transport que leur véhicule automobile personnel . \\r\\n le mettre mot aujourd\\'hui être \" le valeur travail \" à lequel je adhérer pleinement voir que je avoir travailler 37ans sans interruption et 41 au total . \\r\\n mais beaucoup de gens qui vouloir travailler se voir obliger de prendre leur véhicule ( horaire ou non desservir par le transport en commun ) sans compter que un employeur voir de un bon œil que son salarier ne être pas le oeil river sur leur montre par peur de louper leur train . \\r\\n je me être livrer à un petit comparaison entre un salarié qui faire 8000 kilomètre par an   ( 40km*200jr ) pour aller bosser et un touriste qui faire le aller retour en avion aux antille . ( c’ être le distance qui compte , pas le lieu ) . \\r\\n le salarié , véhicule automobile : 8000km-205gr sur kilomètre = 1640 kilogramme de co2 . \\r\\n le touriste , aller retour de Paris à pointe à pitre : 6859km*2 -120gr sur kilomètre par personne = 1646 kilogramme de co2 . le co2 émettre par le aviation à tout le chance de être piéger en altitude ce qui n\\' être pas automatique pour celui émettre au raz de sol qui pouvoir être absorber par le végétation ou le plancton . \\r\\n alors pourquoi stigmatiser le automobiliste et passer sous silence le énorme quantité de co2 émettre par passager dans le aviation . je ne parle pas de fret sur lequel il faudrait plancher entre le nécessaire et le mercantile . \\r\\n ce être vrai on faire plus de kilomètre par avion mais on pouvoir se en passer ( tourisme ) pas de celui qui vous mener au travail . \\r\\n pourquoi ne pas taxer plus le transport aérien ( loisir ) au delà de le zone € ce qui en plus éviter le déficit extérieure de le zone . je l\\' avoue ce être un peu puéril , vous trouver surement un moyen de action plus présentable . ( le litre de kérosène au prix de diesel par exemple ) . \\r\\n de tout façon il falloir réduire notre niveau consommation d’ énergie fossile . commençon par : \" choisir entre le superflu et le nécessaire \" . \\r\\n\\r\\n ce ne être pas le plus modeste qui polluer le plus , ce être leur nombre .'"
      ]
     },
     "execution_count": 7,
     "metadata": {},
     "output_type": "execute_result"
    }
   ],
   "source": [
    "#Exemple d'utilisation\n",
    "original_csv = pd.read_csv('/Volumes/Carte_SD/Arthur/FMR/Etude_de_cas/GreatDebatAnalysis/notebooks/data_F.csv',sep=';')\n",
    "\n",
    "lemmatisation(original_csv.iloc[1,2])"
   ]
  }
 ],
 "metadata": {
  "kernelspec": {
   "display_name": "Python 3",
   "language": "python",
   "name": "python3"
  },
  "language_info": {
   "codemirror_mode": {
    "name": "ipython",
    "version": 3
   },
   "file_extension": ".py",
   "mimetype": "text/x-python",
   "name": "python",
   "nbconvert_exporter": "python",
   "pygments_lexer": "ipython3",
   "version": "3.7.4"
  }
 },
 "nbformat": 4,
 "nbformat_minor": 2
}
